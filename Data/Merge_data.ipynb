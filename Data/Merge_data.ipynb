{
 "cells": [
  {
   "cell_type": "markdown",
   "metadata": {},
   "source": [
    "# Hotels\n"
   ]
  },
  {
   "cell_type": "code",
   "execution_count": 4,
   "metadata": {},
   "outputs": [
    {
     "name": "stdout",
     "output_type": "stream",
     "text": [
      "['doc_id', 'hotel_name', 'hotel_url', 'street', 'city', 'state', 'country', 'zip', 'class', 'price', 'num_reviews', 'CLEANLINESS', 'ROOM', 'SERVICE', 'LOCATION', 'VALUE', 'COMFORT', 'overall_ratingsource']\n"
     ]
    }
   ],
   "source": [
    "import pandas as pd\n",
    "\n",
    "chic = pd.read_csv(\"RAW/Hotels/Chicago.csv\")\n",
    "lon = pd.read_csv(\"RAW/Hotels/london.csv\")\n",
    "mon = pd.read_csv(\"RAW/Hotels/montreal.csv\")\n",
    "ny = pd.read_csv(\"RAW/Hotels/new-york-city.csv\")\n",
    "sf = pd.read_csv(\"RAW/Hotels/san-francisco.csv\")\n",
    "sha = pd.read_csv(\"RAW/Hotels/shanghai.csv\")\n",
    "\n",
    "\n",
    "print(chic.columns.tolist())\n"
   ]
  },
  {
   "cell_type": "code",
   "execution_count": 6,
   "metadata": {},
   "outputs": [
    {
     "name": "stdout",
     "output_type": "stream",
     "text": [
      "OK.\n"
     ]
    }
   ],
   "source": [
    "if (\n",
    "    chic.columns.tolist() == lon.columns.tolist() ==\n",
    "    mon.columns.tolist() == ny.columns.tolist() ==\n",
    "    sf.columns.tolist() == sha.columns.tolist()\n",
    "):\n",
    "    print(\"OK.\")\n",
    "else:\n",
    "    print(\"Not ok.\")"
   ]
  },
  {
   "cell_type": "code",
   "execution_count": null,
   "metadata": {},
   "outputs": [
    {
     "name": "stdout",
     "output_type": "stream",
     "text": [
      "                                       doc_id  \\\n",
      "0                           the talbott hotel   \n",
      "1                 sofitel chicago water tower   \n",
      "2     trump international hotel tower chicago   \n",
      "3                hampton inn majestic chicago   \n",
      "4  residence inn chicago downtown river north   \n",
      "\n",
      "                                          hotel_name hotel_url   street city  \\\n",
      "0  http://www.tripadvisor.com/ShowUserReviews-g35...        -1  chicago   il   \n",
      "1  http://www.tripadvisor.com/ShowUserReviews-g35...        -1  chicago   il   \n",
      "2  http://www.tripadvisor.com/ShowUserReviews-g35...        -1  chicago   il   \n",
      "3  http://www.tripadvisor.com/ShowUserReviews-g35...        -1  chicago   il   \n",
      "4  http://www.tripadvisor.com/ShowUserReviews-g35...        -1  chicago   il   \n",
      "\n",
      "  state country zip class  price  num_reviews  CLEANLINESS      ROOM  \\\n",
      "0   usa   60611  -1    -1    212     4.729508     4.655738  4.647541   \n",
      "1   usa   60611  -1    -1    346     4.760797     4.558140  4.604651   \n",
      "2   usa   60611  -1    -1    128     4.888889     4.842593  4.574074   \n",
      "3   usa   60603  -1    -1    141     4.757576     4.590909  4.492424   \n",
      "4   usa   60610  -1    -1     82     4.787500     4.600000  4.650000   \n",
      "\n",
      "    SERVICE  LOCATION  VALUE   COMFORT  overall_ratingsource  \n",
      "0  4.844262  4.483607    0.0  4.672131                   NaN  \n",
      "1  4.794020  4.289037    0.0  4.601329                   NaN  \n",
      "2  4.861111  4.314815    0.0  4.696296                   NaN  \n",
      "3  4.742424  4.393939    0.0  4.595455                   NaN  \n",
      "4  4.725000  4.462500    0.0  4.645000                   NaN  \n"
     ]
    }
   ],
   "source": [
    "combined_df = pd.concat([chic, lon, mon, ny, sf, sha], ignore_index=True)\n",
    "combined_df.to_csv(\"READY/hotels.csv\", index=False)\n",
    "\n",
    "print(combined_df.head())"
   ]
  },
  {
   "cell_type": "markdown",
   "metadata": {},
   "source": [
    "# Airbnb"
   ]
  },
  {
   "cell_type": "markdown",
   "metadata": {},
   "source": []
  }
 ],
 "metadata": {
  "kernelspec": {
   "display_name": "Python 3",
   "language": "python",
   "name": "python3"
  },
  "language_info": {
   "codemirror_mode": {
    "name": "ipython",
    "version": 3
   },
   "file_extension": ".py",
   "mimetype": "text/x-python",
   "name": "python",
   "nbconvert_exporter": "python",
   "pygments_lexer": "ipython3",
   "version": "3.11.5"
  }
 },
 "nbformat": 4,
 "nbformat_minor": 2
}
